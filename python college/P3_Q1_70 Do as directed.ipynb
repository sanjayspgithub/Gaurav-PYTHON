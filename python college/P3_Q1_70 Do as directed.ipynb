{
 "cells": [
  {
   "cell_type": "markdown",
   "metadata": {},
   "source": [
    "# Practical No. 3\n",
    "Aim1: Do As Directed"
   ]
  },
  {
   "cell_type": "markdown",
   "metadata": {},
   "source": [
    "# 1. Do as directed for Dictionary"
   ]
  },
  {
   "cell_type": "code",
   "execution_count": 2,
   "metadata": {},
   "outputs": [],
   "source": [
    "Employee_data = { 101:['Shiva', 24, 'Content Strategist'] ,102:['Udit',25,'Content Strategist'], 103:['Sonam', 28,'Sr Manager'], 104:['Ansari',29,'Product Lead' ],105:['Huzefa',32,'Project Manager' ]}"
   ]
  },
  {
   "cell_type": "code",
   "execution_count": 10,
   "metadata": {},
   "outputs": [
    {
     "name": "stdout",
     "output_type": "stream",
     "text": [
      "['Huzefa', 32, 'Project Manager']\n"
     ]
    }
   ],
   "source": [
    "###Get details of the oldest Employee\n",
    "\n",
    "old=0\n",
    "j=0\n",
    "for i in Employee_data:\n",
    "    if Employee_data[i][1] > old:\n",
    "        old=Employee_data[i][1]\n",
    "        j=i\n",
    "    \n",
    "oldest_emp=Employee_data[j]\n",
    "print(oldest_emp)"
   ]
  },
  {
   "cell_type": "markdown",
   "metadata": {},
   "source": [
    "#### Identify the age of the employee with employee id 159 [ If the employee isn't present return NA]\n",
    "\n",
    "- 25\n",
    "- 32\n",
    "- NA\n",
    "- 42"
   ]
  },
  {
   "cell_type": "code",
   "execution_count": 13,
   "metadata": {},
   "outputs": [
    {
     "name": "stdout",
     "output_type": "stream",
     "text": [
      "NA\n"
     ]
    }
   ],
   "source": [
    "# Type your code here\n",
    "\n",
    "if 159 in Employee_data:\n",
    "    print(Employee_data[159])\n",
    "else:\n",
    "    print(\"NA\")"
   ]
  },
  {
   "cell_type": "markdown",
   "metadata": {},
   "source": [
    "#### Count the total number of employee in the organization"
   ]
  },
  {
   "cell_type": "code",
   "execution_count": 14,
   "metadata": {},
   "outputs": [
    {
     "name": "stdout",
     "output_type": "stream",
     "text": [
      "Total number of employee in the organization are:  5\n"
     ]
    }
   ],
   "source": [
    "# Type your code here\n",
    "count=0\n",
    "for i in Employee_data:\n",
    "    count+=1\n",
    "\n",
    "print(\"Total number of employee in the organization are: \",count)"
   ]
  },
  {
   "cell_type": "markdown",
   "metadata": {},
   "source": [
    "#### Calculate the mean age of the employees\n",
    "\n",
    "- 31.36\n",
    "- 36.48\n",
    "- 27.66\n",
    "- 32.47"
   ]
  },
  {
   "cell_type": "code",
   "execution_count": 15,
   "metadata": {},
   "outputs": [
    {
     "name": "stdout",
     "output_type": "stream",
     "text": [
      "Mean age of the employees:  27.6\n"
     ]
    }
   ],
   "source": [
    "# Type your code here\n",
    "age=0\n",
    "for i in Employee_data:\n",
    "    age+=Employee_data[i][1]\n",
    "    \n",
    "mean=age/count\n",
    "print(\"Mean age of the employees: \",mean)"
   ]
  },
  {
   "cell_type": "markdown",
   "metadata": {},
   "source": [
    "#### Perform the following two tasks and then calculate the updated mean age of the employees\n",
    "Task1 Update the ages of employee id - 104,140, and 164 as 27 <br>"
   ]
  },
  {
   "cell_type": "code",
   "execution_count": 17,
   "metadata": {},
   "outputs": [
    {
     "name": "stdout",
     "output_type": "stream",
     "text": [
      "Updated mean age of the employees:  27.2\n"
     ]
    }
   ],
   "source": [
    "# Type your code here\n",
    "for i in Employee_data:\n",
    "    if i==104 or i==140 or i==164:\n",
    "        Employee_data[i][1]=27\n",
    "\n",
    "age=0\n",
    "for i in Employee_data:\n",
    "    age+=Employee_data[i][1]\n",
    "    \n",
    "new_mean=age/count\n",
    "print(\"Updated mean age of the employees: \",new_mean)"
   ]
  },
  {
   "cell_type": "markdown",
   "metadata": {},
   "source": [
    "# 2. Let’s say you have a huge list that contains student grades: \n",
    "Grades = ['A', 'A', 'B', 'C', 'D', 'B', 'B', 'C', 'D', 'E', 'C', 'C', 'A', 'B', 'F', 'D', 'C',  'B', 'C', 'A', 'B', 'F', 'B', 'A', 'E', 'B', 'B', 'C', 'D']\n",
    "You want to identify distinct grades allotted to students. \n"
   ]
  },
  {
   "cell_type": "code",
   "execution_count": 41,
   "metadata": {},
   "outputs": [
    {
     "name": "stdout",
     "output_type": "stream",
     "text": [
      "Number of distinct grades:  6\n"
     ]
    }
   ],
   "source": [
    "## type your code here\n",
    "Grades = ['A', 'A', 'B', 'C', 'D', 'B', 'B', 'C', 'D', 'E', 'C', 'C', 'A', 'B', 'F', 'D', 'C', 'B', 'C', 'A', 'B', 'F', 'B', 'A', 'E', 'B', 'B', 'C', 'D']\n",
    "count=0\n",
    "l=[]\n",
    "# d={'A':0,'B':0,'C':0,'D':0,'E':0,'F':0}\n",
    "for i in Grades:\n",
    "    if i not in l:\n",
    "        count+=1\n",
    "        l.append(i)\n",
    "        \n",
    "print(\"Number of distinct grades: \",count)\n",
    "# i=1\n",
    "# for el in Grades:\n",
    "#     print(\"Student\",i,\"-\",el)\n",
    "#     i+=1\n",
    "    \n",
    "# d={}\n",
    "# for key in d:\n",
    "#     d[key]=i\n",
    "#     i+=1\n",
    "    \n",
    "# print(d)\n",
    "    "
   ]
  },
  {
   "cell_type": "markdown",
   "metadata": {},
   "source": [
    "# 3. Let’s say you have two lists A and B. Identify the elements which are common in the two lists A and B and return them in a sorted manner. For example \n",
    " Sample Input :\n",
    "A = [5,1,3,4,4,5,6,7]\n",
    "B = [3,3,5,5, 1 ,7 ,2]\n",
    " Sample Output:\n",
    "[1,3,5,7]\n"
   ]
  },
  {
   "cell_type": "code",
   "execution_count": 34,
   "metadata": {},
   "outputs": [
    {
     "name": "stdout",
     "output_type": "stream",
     "text": [
      "[1, 3, 5, 7]\n"
     ]
    }
   ],
   "source": [
    "## type your code here\n",
    "A = [5,1,3,4,4,5,6,7]\n",
    "B = [3,3,5,5, 1 ,7 ,2]\n",
    "l=[]\n",
    "for i in A:\n",
    "    if i in B and i not in l:\n",
    "        l.append(i)\n",
    " \n",
    "l.sort()\n",
    "print(l)"
   ]
  },
  {
   "cell_type": "markdown",
   "metadata": {},
   "source": [
    "# 4. Create a SORTED list of all values from the dictionary input_dict = {'Jack Dorsey' : 'Twitter' , 'Tim Cook' : 'Apple', 'Jeff Bezos' : 'Amazon' , 'Mukesh Ambani' : 'RJIO'}\n",
    " Sample Output:\n",
    "['Amazon', 'Apple', 'RJIO', 'Twitter']\n"
   ]
  },
  {
   "cell_type": "code",
   "execution_count": 38,
   "metadata": {},
   "outputs": [
    {
     "name": "stdout",
     "output_type": "stream",
     "text": [
      "['Amazon', 'Apple', 'RJIO', 'Twitter']\n"
     ]
    }
   ],
   "source": [
    "## type your code here\n",
    "input_dict = {'Jack Dorsey' : 'Twitter' , 'Tim Cook' : 'Apple', 'Jeff Bezos' : 'Amazon' , 'Mukesh Ambani' : 'RJIO'}\n",
    "l=[]\n",
    "for i in input_dict:\n",
    "   l.append(input_dict[i]) \n",
    "l.sort()\n",
    "print(l)"
   ]
  },
  {
   "cell_type": "markdown",
   "metadata": {},
   "source": [
    "# 5. Write code to fetch the profession of the employee with Employee id entered by the user from an employee input given in the form of a dictionary where key represent employ id and values represent the name, age, and profession (in the same order).\n",
    " Given Dictionary:\n",
    "Employee_data = { 101:['Shiva', 24, 'Content Strategist'] ,102:['Udit',25,'Content Strategist'], 103:['Sonam', 28,'Sr Manager'], 104:['Ansari',29,'Product Lead' ],105:['Huzefa',32,'Project Manager' ]}\n",
    " Sample output:\n",
    "'Product Lead'\n"
   ]
  },
  {
   "cell_type": "code",
   "execution_count": 6,
   "metadata": {},
   "outputs": [
    {
     "name": "stdout",
     "output_type": "stream",
     "text": [
      "Enter employee_id: 103\n",
      "Profession of 103 Sr Manager\n"
     ]
    }
   ],
   "source": [
    "## type your code here\n",
    "n=int(input(\"Enter employee_id: \"))\n",
    "\n",
    "if n in Employee_data:\n",
    "    print(\"Profession of\",n,Employee_data[n][2])\n",
    "else:\n",
    "    print(\"Enter valid employee id!!!\")"
   ]
  },
  {
   "cell_type": "markdown",
   "metadata": {},
   "source": [
    "# 6. If Z = {1, 3, 5, 7, 9, 11, 13}, then which of the following are subsets of U.\n",
    "B = {2, 4}\n",
    "A = {0}\n",
    "C = {1, 9, 5, 13}\n",
    "D = {5, 11, 1}\n",
    "E = {13, 7, 9, 11, 5, 3, 1}\n",
    "F = {2, 3, 4, 5}\n",
    "HINT: C, D and E are the subsets of ∪."
   ]
  },
  {
   "cell_type": "code",
   "execution_count": 45,
   "metadata": {},
   "outputs": [
    {
     "name": "stdout",
     "output_type": "stream",
     "text": [
      "C,D and E are subset of U\n"
     ]
    }
   ],
   "source": [
    "## type your code here\n",
    "Z = {1, 3, 5, 7, 9, 11, 13}\n",
    "B = {2, 4}\n",
    "A = {0}\n",
    "C = {1, 9, 5, 13}\n",
    "D = {5, 11, 1}\n",
    "E = {13, 7, 9, 11, 5, 3, 1}\n",
    "F = {2, 3, 4, 5}\n",
    "U = {1, 9, 5, 13, 5, 11, 1, 13, 7, 9, 11, 5, 3, 1}\n",
    "\n",
    "if A.issubset(U):\n",
    "    print(\"A is a subset of U\")\n",
    "if B.issubset(U):\n",
    "    print(\"B is a subset of U\")\n",
    "if F.issubset(U):\n",
    "    print(\"F is a subset of U\")\n",
    "print(\"C,D and E are subset of U\")"
   ]
  },
  {
   "cell_type": "markdown",
   "metadata": {},
   "source": [
    "# 7. Let A and B be two finite sets such that n(A) = 20, n(B) = 28 and n(A ∪ B) = 36, find n(A ∩ B).\n",
    "HINT: Use the formula n(A ∪ B) = n(A) + n(B) - n(A ∩ B).\n",
    "then n(A∩B) = n(A) + n(B) - n(A ∪B)\n",
    "= 20 + 28 - 36\n",
    "= 48 - 36\n",
    "= 12\n"
   ]
  },
  {
   "cell_type": "code",
   "execution_count": 46,
   "metadata": {},
   "outputs": [
    {
     "name": "stdout",
     "output_type": "stream",
     "text": [
      "n(A intersection B) is:  12\n"
     ]
    }
   ],
   "source": [
    "## type your code here\n",
    "nA=20\n",
    "nB=28\n",
    "nAuB=36\n",
    "nAiB=nA+nB-nAuB\n",
    "\n",
    "print(\"n(A intersection B) is: \",nAiB)\n"
   ]
  },
  {
   "cell_type": "markdown",
   "metadata": {},
   "source": [
    "# 8.  In a group of 60 people, 27 like cold drinks and 42 like hot drinks and each person likes at least one of the two drinks. How many like both coffee and tea?\n",
    "Solution: Let A = Set of people who like cold drinks B = Set of people who like hot drinks Given,\n",
    "(A ∪B) = 60     n(A) = 27     n(B) = 42 then;\n",
    "n(A ∩ B) = n(A) + n(B) - n(A ∪ B)\n",
    "= 27 + 42 - 60\n",
    "= 69 - 60 = 9\n",
    "= 9\n",
    "Therefore, 9 people like both tea and coffee."
   ]
  },
  {
   "cell_type": "code",
   "execution_count": 47,
   "metadata": {},
   "outputs": [
    {
     "name": "stdout",
     "output_type": "stream",
     "text": [
      "Number of people who like both coffee and tea:  9\n"
     ]
    }
   ],
   "source": [
    "## type your code here\n",
    "n=60\n",
    "cd=27\n",
    "hd=42\n",
    "common=(cd+hd)-n\n",
    "print(\"Number of people who like both coffee and tea: \",common)"
   ]
  },
  {
   "cell_type": "markdown",
   "metadata": {},
   "source": [
    "# 9. In a competition, a school awarded medals in different categories. 36 medals in dance, 12 medals in dramatics and 18 medals in music. If these medals went to a total of 45 persons and only 4 persons got medals in all the three categories, how many received medals in exactly two of these categories?\n",
    "Solution: Let A = set of persons who got medals in dance.\n",
    "B = set of persons who got medals in dramatics.\n",
    "C = set of persons who got medals in music.\n",
    "Given,\n",
    "n(A) = 36\n",
    "n(B) = 12\n",
    "n(C) = 18\n",
    "n(A ∪ B ∪C) = 45\n",
    "n(A ∩ B ∩ C) = 4\n",
    "We know that number of elements belonging to exactly two of the three sets A, B, C\n",
    "= n(A ∩ B) + n(B ∩ C) + n(A ∩ C) - 3n(A ∩ B ∩ C)\n",
    "= n(A ∩ B) + n(B ∩ C) + n(A ∩ C) - 3 × 4 ……..(i)\n",
    "n(A ∪ B ∪ C) = n(A) + n(B) + n(C) - n(A ∩ B) - n(B ∩ C) - n(A ∩ C) + n(A ∩ B ∩C)\n",
    "Therefore, n(A ∩ B) + n(B ∩ C) + n(A ∩ C) = n(A) + n(B) + n(C) + n(A ∩ B ∩ C) - n(A ∪ B ∪ C)\n",
    "From (i) required number\n",
    "= n(A) + n(B) + n(C) + n(A ∩ B ∩ C) - n(A ∪ B ∪ C) - 12\n",
    "= 36 + 12 + 18 + 4 - 45 - 12\n",
    "= 70 - 67\n",
    "= 3"
   ]
  },
  {
   "cell_type": "code",
   "execution_count": 48,
   "metadata": {},
   "outputs": [
    {
     "name": "stdout",
     "output_type": "stream",
     "text": [
      "Number of students who received medals in exactly two categories:  25\n"
     ]
    }
   ],
   "source": [
    "## type your code here\n",
    "n=45\n",
    "dance=36\n",
    "dramatics=12\n",
    "music=18\n",
    "common=4\n",
    "ans=0\n",
    "\n",
    "ans=dance+dramatics+music+common-n\n",
    "print(\"Number of students who received medals in exactly two categories: \",ans)"
   ]
  },
  {
   "cell_type": "markdown",
   "metadata": {},
   "source": [
    "# 10. In a group of 100 persons, 72 people can speak English and 43 can speak French. How many can speak English only? How many can speak French only and how many can speak both English and French?\n",
    "Solution: Let A be the set of people who speak English.\n",
    "B be the set of people who speak French.\n",
    "A - B be the set of people who speak English and not French.\n",
    "B - A be the set of people who speak French and not English.\n",
    "A ∩ B be the set of people who speak both French and English.\n",
    "Given,\n",
    "n(A) = 72\n",
    "n(B) = 43\n",
    "n(A ∪ B) = 100\n",
    "Now, n(A ∩ B) = n(A) + n(B) - n(A ∪ B)\n",
    "= 72 + 43 - 100\n",
    "= 115 - 100\n",
    "= 15\n",
    "Therefore, Number of persons who speak both French and English = 15\n",
    "\n",
    "n(A) = n(A - B) + n(A ∩ B) ⇒\n",
    "n(A - B) = n(A) - n(A ∩ B)\n",
    "= 72 - 15\n",
    "= 57\n",
    "and n(B - A) = n(B) - n(A ∩ B)\n",
    "= 43 - 15\n",
    "= 28\n",
    "Therefore, Number of people speaking English only = 57\n",
    "Number of people speaking French only = 28\n"
   ]
  },
  {
   "cell_type": "code",
   "execution_count": 49,
   "metadata": {},
   "outputs": [
    {
     "name": "stdout",
     "output_type": "stream",
     "text": [
      "Number of people who can speak ENGLISH only:  57\n",
      "Number of people who can speak FRENCH only:  28\n",
      "Number of people who can speak BOTH:  15\n"
     ]
    }
   ],
   "source": [
    "## type your code here\n",
    "n=100\n",
    "eng=72\n",
    "french=43\n",
    "common=(eng+french)-n\n",
    "peng=eng-common\n",
    "pfrench=french-common\n",
    "\n",
    "print(\"Number of people who can speak ENGLISH only: \",peng)\n",
    "print(\"Number of people who can speak FRENCH only: \",pfrench)\n",
    "print(\"Number of people who can speak BOTH: \",common)"
   ]
  }
 ],
 "metadata": {
  "kernelspec": {
   "display_name": "Python 3 (ipykernel)",
   "language": "python",
   "name": "python3"
  },
  "language_info": {
   "codemirror_mode": {
    "name": "ipython",
    "version": 3
   },
   "file_extension": ".py",
   "mimetype": "text/x-python",
   "name": "python",
   "nbconvert_exporter": "python",
   "pygments_lexer": "ipython3",
   "version": "3.9.7"
  }
 },
 "nbformat": 4,
 "nbformat_minor": 2
}
