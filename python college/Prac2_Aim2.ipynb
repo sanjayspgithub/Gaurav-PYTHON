{
 "cells": [
  {
   "cell_type": "markdown",
   "id": "a4131e1c",
   "metadata": {},
   "source": [
    "# 2.Write a python program to define a tuple of 10 student’s information as roll no., name, address and marks of 3 subjects Physics, Chemistry and Mathematics. The list is sorted by roll no. Your program should display list of three toppers in all students."
   ]
  },
  {
   "cell_type": "code",
   "execution_count": 2,
   "id": "4b916dd6",
   "metadata": {},
   "outputs": [
    {
     "name": "stdout",
     "output_type": "stream",
     "text": [
      "Toppers with there percentage are as follows\n",
      "[(98.33333333333333, 'Veer'), (98.0, 'Prasanna'), (95.0, 'Vinay')]\n"
     ]
    }
   ],
   "source": [
    "student = [(68,\"Prasanna\",\"Nagpur\",99,98,97),(62,\"Rahul\",\"Nagpur\",94,90,95),(63,\"Watve\",\"Chandrapur\",86,87,98),(37,\"Krish\",\"Butibori\",82,81,90),(63,\"Vinay\",\"Nagpur\",94,95,96),(66,\"Prash\",\"Kamptee\",96,87,89),(69,\"Veer\",\"Amritsar\",99,99,97),(56,\"Pratham\",\"Jaripatka\",76,73,88),( 50,\"Sai\",\"Ghatgobar\",80,92,67),(72,\"Tejas\",\"khamla\",64,82,93)]\n",
    "marks=[] \n",
    "namelist=[]\n",
    "for i in range(10):\n",
    "    avg = (student[i][3]+student[i][4]+student[i][5])/3 \n",
    "    marks.append(avg)\n",
    "    name = (student[i][1]) \n",
    "    namelist.append(name)\n",
    "print (\"Toppers with there percentage are as follows\")\n",
    "print(sorted(zip(marks,namelist), reverse=True)[:3])\n"
   ]
  },
  {
   "cell_type": "markdown",
   "id": "d93a6eff",
   "metadata": {},
   "source": [
    "# 3.\tPython program that displays which letters present in the two strings but not in both"
   ]
  },
  {
   "cell_type": "code",
   "execution_count": 3,
   "id": "eca712f2",
   "metadata": {},
   "outputs": [
    {
     "name": "stdout",
     "output_type": "stream",
     "text": [
      "Enter first string:Prasanna ]\\\n",
      "Enter second string:Tangade\n",
      "The letters are:\n",
      "s\n",
      "r\n",
      "g\n",
      "T\n",
      "d\n",
      "P\n",
      " \n",
      "\\\n",
      "]\n",
      "e\n"
     ]
    }
   ],
   "source": [
    "s1=input(\"Enter first string:\")\n",
    "s2=input(\"Enter second string:\")\n",
    "a=list(set(s1)^set(s2)) \n",
    "print(\"The letters are:\")\n",
    "for i in a:\n",
    "    print(i)\n"
   ]
  },
  {
   "cell_type": "markdown",
   "id": "ebbb47f4",
   "metadata": {},
   "source": [
    "# 4.A List rotation consists of taking the first element and moving it to the end. Write a python that takes a list L and a positive integer k and generate the list L after k rotations. If K is not positive, it should return L unchanged.Ip: L= [1,2,3,4,5] After 1st rotation: list become [2,3,4,5,1] After the 2nd rotation list becomes [3,4,5,1,2].\tSo on Print output after each rotation. Take the value of k from the user.\n",
    "\n"
   ]
  },
  {
   "cell_type": "code",
   "execution_count": 11,
   "id": "8b1049d9",
   "metadata": {},
   "outputs": [
    {
     "ename": "SyntaxError",
     "evalue": "'return' outside function (Temp/ipykernel_7064/4053653534.py, line 4)",
     "output_type": "error",
     "traceback": [
      "\u001b[1;36m  File \u001b[1;32m\"C:\\Users\\SKY-SC~1\\AppData\\Local\\Temp/ipykernel_7064/4053653534.py\"\u001b[1;36m, line \u001b[1;32m4\u001b[0m\n\u001b[1;33m    return L\u001b[0m\n\u001b[1;37m    ^\u001b[0m\n\u001b[1;31mSyntaxError\u001b[0m\u001b[1;31m:\u001b[0m 'return' outside function\n"
     ]
    }
   ],
   "source": [
    "def listrotation(L,k): \n",
    "    k=int(input(\"Enter an integer\")) \n",
    "if k<0:\n",
    "    return L\n",
    "    A=L\n",
    "    while(k>0):\n",
    "        temp=A[0]\n",
    "        for i in range(len(L)-1):\n",
    "            A[i]=A[i+1]\n",
    "            A[i+1]=temp \n",
    "            k=k-1\n",
    "            return A \n",
    "            k=int(input(\"Enter an integer:\"))\n",
    "for i in range(k+1):\n",
    "    print(listrotation([1,2,3,4,5],i))\n"
   ]
  },
  {
   "cell_type": "markdown",
   "id": "5794e543",
   "metadata": {},
   "source": [
    "# 5.Create a list of tuples, with each tuple having 5 numbers. Perform the addition of 3rd numbers of each tuple\n",
    "\n"
   ]
  },
  {
   "cell_type": "code",
   "execution_count": 14,
   "id": "f957e8ac",
   "metadata": {},
   "outputs": [
    {
     "name": "stdout",
     "output_type": "stream",
     "text": [
      "32\n"
     ]
    }
   ],
   "source": [
    "my_tuple=[(1,2,3,4,5), (5,6,7,8,9), (2,4,6,8,0), (3,6,9,2,1), (2,1,7,8,5)]\n",
    "a=my_tuple[0][2]\n",
    "b=my_tuple[1][2]\n",
    "c=my_tuple[2][2]\n",
    "d=my_tuple[3][2]\n",
    "e=my_tuple[4][2] \n",
    "print(a+b+c+d+e)\n"
   ]
  },
  {
   "cell_type": "markdown",
   "id": "e8010c38",
   "metadata": {},
   "source": [
    "# 6.Write a python program to Convert a long string to a list and print all the words and their frequencies"
   ]
  },
  {
   "cell_type": "code",
   "execution_count": 13,
   "id": "95161324",
   "metadata": {},
   "outputs": [
    {
     "name": "stdout",
     "output_type": "stream",
     "text": [
      "['Hotstar', 'is', 'an', 'Indian', 'brand', 'of', 'subscription', 'video', 'on-demand', 'over-the-top', 'streaming', 'service', 'owned', 'by', 'Star', 'India', 'and', 'operated', 'by', 'Disney', 'Media', 'and', 'Entertainment', 'Distribution,', 'bot', 'h', 'a', 'division', 'of', 'The', 'Walt', 'Disney', 'Company.']\n",
      "[1, 1, 1, 1, 1, 2, 1, 1, 1, 1, 1, 1, 1, 2, 1, 1, 2, 1, 2, 2, 1, 2, 1, 1, 1, 1, 1, 1, 2, 1, 1, 2, 1]\n"
     ]
    }
   ],
   "source": [
    "my_string=\"Hotstar is an Indian brand of subscription video on-demand over-the-top streaming service owned by Star India and operated by Disney Media and Entertainment Distribution, bot h a division of The Walt Disney Company.\"\n",
    "word_list = my_string.split()\n",
    "print(word_list)\n",
    "word_freq = [word_list.count(n)\n",
    "for n in word_list]\n",
    "print(word_freq)\n"
   ]
  },
  {
   "cell_type": "code",
   "execution_count": null,
   "id": "ffd86df9",
   "metadata": {},
   "outputs": [],
   "source": []
  }
 ],
 "metadata": {
  "kernelspec": {
   "display_name": "Python 3 (ipykernel)",
   "language": "python",
   "name": "python3"
  },
  "language_info": {
   "codemirror_mode": {
    "name": "ipython",
    "version": 3
   },
   "file_extension": ".py",
   "mimetype": "text/x-python",
   "name": "python",
   "nbconvert_exporter": "python",
   "pygments_lexer": "ipython3",
   "version": "3.9.7"
  }
 },
 "nbformat": 4,
 "nbformat_minor": 5
}
