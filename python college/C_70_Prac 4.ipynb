{
 "cells": [
  {
   "cell_type": "markdown",
   "metadata": {},
   "source": [
    "## Python Practical 4\n",
    "### Name: Prasanna Rameshwar Tangade\n",
    "### Section:C\n",
    "### Roll No: 71\n",
    "\n",
    "#### 1. Create a function “cricket_data” to Accept Five Cricketer‟s full names from the user and write in a file “cricket.txt”. (Each name in the separate line) without using write () function.\n"
   ]
  },
  {
   "cell_type": "code",
   "execution_count": 17,
   "metadata": {},
   "outputs": [
    {
     "name": "stdout",
     "output_type": "stream",
     "text": [
      "Enter cricketer's name:Sachin\n",
      "Enter cricketer's name:Kohli\n",
      "Enter cricketer's name:Dhoni\n",
      "Enter cricketer's name:ABD\n",
      "Enter cricketer's name:Bumrah\n",
      "Sachin\n",
      "Kohli\n",
      "Dhoni\n",
      "ABD\n",
      "Bumrah\n",
      "\n"
     ]
    }
   ],
   "source": [
    "def cricket_data():\n",
    "    name = input(\"Enter cricketer's name:\")\n",
    "    return name\n",
    "f0 = open(\"cricket.txt\", \"w\")\n",
    "for i in range (0,5):\n",
    "    f1 = open(\"cricket.txt\", \"a\")\n",
    "    f1.writelines(cricket_data())\n",
    "    f1.writelines(\"\\n\")   \n",
    "f1.close()\n",
    "f2 = open(\"cricket.txt\", \"r\")\n",
    "print(f2.read())"
   ]
  },
  {
   "cell_type": "markdown",
   "metadata": {},
   "source": [
    "#### 2. We‟re working with a list of flowers and some information about each one.The create_file function writes this information to „flowers.txt‟. The “contents_of_file” function takes the flower name as argument and returns the information of a flower in a nicely formatted block.\n"
   ]
  },
  {
   "cell_type": "code",
   "execution_count": 6,
   "metadata": {},
   "outputs": [
    {
     "name": "stdout",
     "output_type": "stream",
     "text": [
      "it is yellow\n",
      "\n"
     ]
    }
   ],
   "source": [
    "def contents_of_file(name):\n",
    "    if name == \"rose\":\n",
    "        info = \"it is red\"\n",
    "    elif name == \"lotus\":\n",
    "        info = \"it is white\"\n",
    "    elif name == \"sunflower\":\n",
    "        info = \"it is yellow\"\n",
    "    else:\n",
    "        info = \"Data not available\"\n",
    "    return info\n",
    "\n",
    "def create_file():\n",
    "    f1 = open(\"E:\\Yashi Study\\Python Material\\flowers.txt\", \"w\")\n",
    "    f1.writelines(contents_of_file(\"sunflower\"))\n",
    "    f1.writelines(\"\\n\")\n",
    "    f1.close()\n",
    "\n",
    "create_file()\n",
    "f2 = open(\"E:\\Yashi Study\\Python Material\\flowers.txt\", \"r\")\n",
    "print(f2.read())\n",
    "f2.close()"
   ]
  },
  {
   "cell_type": "markdown",
   "metadata": {},
   "source": [
    "#### 3. Create a function “wt_tr_data” to store information (train_no, train_name,train_type, source, and destination) of a trains running in the western region into a file “west_train_details.txt”.\n"
   ]
  },
  {
   "cell_type": "code",
   "execution_count": 7,
   "metadata": {},
   "outputs": [
    {
     "name": "stdout",
     "output_type": "stream",
     "text": [
      "21921 || HZT.Nizamuddin || Passenger || Nagpur || Delhi\n",
      "36678 || Rajdhani Express || Express || Mumbai || Bangalore\n",
      "98765 || Doronto Express || Superfast || Chennai || Hyderabad\n",
      "\n"
     ]
    }
   ],
   "source": [
    "def wt_tr_data(train_no, train_name, train_type, source, destination):\n",
    "    t1=open(\"E:\\Yashi Study\\Python Material\\west_train_details.txt\", \"a\")\n",
    "    t1.write(train_no)\n",
    "    t1.write(\" || \")\n",
    "    t1.write(train_name)\n",
    "    t1.write(\" || \")\n",
    "    t1.write(train_type)\n",
    "    t1.write(\" || \")\n",
    "    t1.write(source)\n",
    "    t1.write(\" || \")\n",
    "    t1.write(destination)\n",
    "    t1.write(\"\\n\")\n",
    "    t1.close()\n",
    "\n",
    "wt_tr_data(\"21921\",\"HZT.Nizamuddin\",\"Passenger\",\"Nagpur\", \"Delhi\")\n",
    "wt_tr_data(\"36678\",\"Rajdhani Express\",\"Express\", \"Mumbai\",\"Bangalore\")\n",
    "wt_tr_data(\"98765\",\"Doronto Express\",\"Superfast\",\"Chennai\", \"Hyderabad\")\n",
    "t2=open(\"E:\\Yashi Study\\Python Material\\west_train_details.txt\", \"r\")\n",
    "print(t2.read())\n",
    "t2.close()"
   ]
  },
  {
   "cell_type": "markdown",
   "metadata": {},
   "source": [
    "#### 4. Using the file “west_train_details.txt”, create a function “train details” to take train no. as an argument and returns the train details in a proper format.\n"
   ]
  },
  {
   "cell_type": "code",
   "execution_count": 11,
   "metadata": {},
   "outputs": [
    {
     "name": "stdout",
     "output_type": "stream",
     "text": [
      "given options\n",
      " \n",
      "21921\n",
      "\n",
      "36678\n",
      "\n",
      "98765\n",
      "\n",
      "Enter the train number: \n",
      "36678\n",
      "36678 || Rajdhani Express || Express || Mumbai || Bangalore\n",
      "\n"
     ]
    }
   ],
   "source": [
    "def train_details():\n",
    "    file = open(\"E:\\Yashi Study\\Python Material\\west_train_details.txt\")\n",
    "    content= file.readlines()\n",
    "    print(\"given options\\n \")\n",
    "    print(\"21921\\n\")\n",
    "    print(\"36678\\n\")\n",
    "    print(\"98765\\n\")\n",
    "    n=int(input(\"Enter the train number: \\n\"))\n",
    "\n",
    "    if n==21921:\n",
    "        print(content[0])\n",
    "\n",
    "    elif n==36678:\n",
    "        print(content[1])\n",
    "    elif n==98765:\n",
    "        print(content[2])\n",
    "    \n",
    "train_details()"
   ]
  },
  {
   "cell_type": "markdown",
   "metadata": {},
   "source": [
    "#### 5. From the “u19.txt”, write a code to answer the following questions:\n",
    "#### a. Read a file and Create a dictionary contains information of no. of lines and no. of words in the file.\n"
   ]
  },
  {
   "cell_type": "code",
   "execution_count": 14,
   "metadata": {},
   "outputs": [
    {
     "name": "stdout",
     "output_type": "stream",
     "text": [
      "{'Total number of lines': 14, 'Total number of words': 169}\n"
     ]
    }
   ],
   "source": [
    "s1=open(\"u19.txt\",\"r\")\n",
    "lines=0  \n",
    "words=0  \n",
    "Content = s1.read()\n",
    "CoList = Content.split(\"\\n\") \n",
    "w=Content.split(\" \")   \n",
    "\n",
    "#loop for counting lines\n",
    "for i in CoList:\n",
    "    lines+=1\n",
    "\n",
    "#loop for counting words\n",
    "for j in w:\n",
    "    words+=1\n",
    "    \n",
    "d={\"Total number of lines\":lines, \"Total number of words\":words}\n",
    "print(d)"
   ]
  },
  {
   "cell_type": "markdown",
   "metadata": {},
   "source": [
    "#### b. Find all the days of a week present in the file and create a list of it."
   ]
  },
  {
   "cell_type": "code",
   "execution_count": 18,
   "metadata": {},
   "outputs": [
    {
     "name": "stdout",
     "output_type": "stream",
     "text": [
      "{'Sunday': 0, 'Monday': 0, 'Tuesday': 0, 'Wednesday': 0, 'Thursday': 2, 'Friday': 0, 'Saturday': 1}\n",
      "['Thursday']\n",
      "['Saturday']\n"
     ]
    }
   ],
   "source": [
    "def word_count(g):\n",
    "    file=open(\"u19.txt\")\n",
    "    freq=file.read()\n",
    "    a1 = freq.count(\"Sunday\")\n",
    "    a2 = freq.count(\"Monday\")\n",
    "    a3 = freq.count(\"Tuesday\")\n",
    "    a4 = freq.count(\"Wednesday\")\n",
    "    a5 = freq.count(\"Thursday\")\n",
    "    a6 = freq.count(\"Friday\")\n",
    "    a7 = freq.count(\"Saturday\")\n",
    "\n",
    "    r={\"Sunday\":a1,\"Monday\":a2,\"Tuesday\":a3,\"Wednesday\":a4,\"Thursday\":a5,\"Friday\":a6,\"Saturday\":a7}\n",
    "    print(r)\n",
    "    \n",
    "    for k1,value in r.items():\n",
    "        if value>0:\n",
    "            print([k1])\n",
    "            \n",
    "with open(\"u19.txt\",\"r\") as g:\n",
    "    word_count(g)"
   ]
  },
  {
   "cell_type": "markdown",
   "metadata": {},
   "source": [
    "#### c. Read a file and create a dictionary contains country name and their occurences in the file"
   ]
  },
  {
   "cell_type": "code",
   "execution_count": 16,
   "metadata": {},
   "outputs": [
    {
     "name": "stdout",
     "output_type": "stream",
     "text": [
      "{'UAE': 2, 'India': 5, 'Pakistan': 2, 'Afganistan': 1, 'Sri Lanka': 1, 'West Indies': 1}\n"
     ]
    }
   ],
   "source": [
    "def word_count(f):\n",
    "    file=open(\"u19.txt\")\n",
    "    data=file.read()\n",
    "    a1 = data.count(\"UAE\")\n",
    "    a2 = data.count(\"India\")\n",
    "    a3 = data.count(\"Pakistan\")\n",
    "    a4 = data.count(\"Afghanistan\")\n",
    "    a5 = data.count(\"Sri Lanka\")\n",
    "    a6 = data.count(\"West Indies\")\n",
    "    \n",
    "    d={\"UAE\":a1,\"India\":a2,\"Pakistan\":a3,\"Afganistan\":a4,\"Sri Lanka\":a5,\"West Indies\":a6}\n",
    "    print(d)\n",
    "\n",
    "\n",
    "with open(\"u19.txt\",\"r\") as f:\n",
    "        word_count(f)"
   ]
  },
  {
   "cell_type": "code",
   "execution_count": null,
   "metadata": {},
   "outputs": [],
   "source": []
  }
 ],
 "metadata": {
  "kernelspec": {
   "display_name": "Python 3 (ipykernel)",
   "language": "python",
   "name": "python3"
  },
  "language_info": {
   "codemirror_mode": {
    "name": "ipython",
    "version": 3
   },
   "file_extension": ".py",
   "mimetype": "text/x-python",
   "name": "python",
   "nbconvert_exporter": "python",
   "pygments_lexer": "ipython3",
   "version": "3.9.7"
  }
 },
 "nbformat": 4,
 "nbformat_minor": 4
}
