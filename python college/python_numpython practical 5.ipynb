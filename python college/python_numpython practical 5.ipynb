{
 "cells": [
  {
   "cell_type": "code",
   "execution_count": 2,
   "id": "ad4f9103",
   "metadata": {},
   "outputs": [],
   "source": [
    "import numpy"
   ]
  },
  {
   "cell_type": "markdown",
   "id": "72831fed",
   "metadata": {},
   "source": [
    "# 1. Write a python code for addition, subtraction and multiplication of two 4x4 matrices."
   ]
  },
  {
   "cell_type": "code",
   "execution_count": 17,
   "id": "094fa9b4",
   "metadata": {
    "scrolled": true
   },
   "outputs": [
    {
     "name": "stdout",
     "output_type": "stream",
     "text": [
      "Printing elements of first matrix\n",
      "[[1 2 3 4]\n",
      " [3 4 2 1]\n",
      " [2 1 4 3]\n",
      " [4 3 2 1]]\n",
      "Printing elements of second matrix\n",
      "[[4 1 2 3]\n",
      " [6 1 2 7]\n",
      " [5 4 2 1]\n",
      " [5 3 1 4]]\n",
      "Addition of two matrix:\n",
      "[[5 3 5 7]\n",
      " [9 5 4 8]\n",
      " [7 5 6 4]\n",
      " [9 6 3 5]]\n",
      "Subtraction of two matrix\n",
      "[[-3  1  1  1]\n",
      " [-3  3  0 -6]\n",
      " [-3 -3  2  2]\n",
      " [-1  0  1 -3]]\n",
      "Multiplication: [[51 27 16 36]\n",
      " [51 18 19 43]\n",
      " [49 28 17 29]\n",
      " [49 18 19 39]]\n"
     ]
    }
   ],
   "source": [
    "import numpy as np\n",
    "\n",
    "A = np.array([[1, 2,3,4 ], [3, 4,2,1],[2,1,4,3] ,[4,3,2,1]])\n",
    "B = np.array([[4,1,2,3],[6,1,2,7],[5,4,2,1],[5,3,1,4]])\n",
    "  \n",
    "print(\"Printing elements of first matrix\")\n",
    "print(A)\n",
    "print(\"Printing elements of second matrix\")\n",
    "print(B)\n",
    "  \n",
    "print(\"Addition of two matrix:\")\n",
    "print(np.add(A, B))\n",
    "print(\"Subtraction of two matrix\")\n",
    "print(np.subtract(A, B))\n",
    "print(\"Multiplication:\", np.dot(A,B))"
   ]
  },
  {
   "cell_type": "markdown",
   "id": "310290fb",
   "metadata": {},
   "source": [
    "# 2. Create a 5 by 2 integer array from a range between 100 to 200 such that the difference between each element is 10. Print the same."
   ]
  },
  {
   "cell_type": "code",
   "execution_count": 8,
   "id": "9b0b3fe8",
   "metadata": {},
   "outputs": [
    {
     "name": "stdout",
     "output_type": "stream",
     "text": [
      "[[100 110]\n",
      " [120 130]\n",
      " [140 150]\n",
      " [160 170]\n",
      " [180 190]]\n"
     ]
    }
   ],
   "source": [
    "import numpy\n",
    "\n",
    "sampleArray = numpy.arange(100, 200, 10)\n",
    "sampleArray = sampleArray.reshape(5,2)\n",
    "print (sampleArray)"
   ]
  },
  {
   "cell_type": "markdown",
   "id": "ad5c28fd",
   "metadata": {},
   "source": [
    "# 3. Consider two matrices M1=([[2,3,4], [6,5,2], [6,7,3]]) M2=([[1,4,2], [4,3,6],[5,9,8]]) Calculate manually as well as develop the python program for the following: (1) matrix multiplication (dot product) (2) inner product (3) cross product (4) outer product."
   ]
  },
  {
   "cell_type": "code",
   "execution_count": 23,
   "id": "20764295",
   "metadata": {},
   "outputs": [
    {
     "name": "stdout",
     "output_type": "stream",
     "text": [
      "1.Dot Product is:\n",
      "[[34 53 54]\n",
      " [36 57 58]\n",
      " [49 72 78]]\n",
      "2.Inner Product is:\n",
      "[[ 22  41  69]\n",
      " [ 30  51  91]\n",
      " [ 40  63 117]]\n",
      "3.Cross Product is:\n",
      "[[-10   0   5]\n",
      " [ 24 -28  -2]\n",
      " [ 29 -33  19]]\n",
      "4.Outer Product is:\n",
      "[[ 2  8  4  8  6 12 10 18 16]\n",
      " [ 3 12  6 12  9 18 15 27 24]\n",
      " [ 4 16  8 16 12 24 20 36 32]\n",
      " [ 6 24 12 24 18 36 30 54 48]\n",
      " [ 5 20 10 20 15 30 25 45 40]\n",
      " [ 2  8  4  8  6 12 10 18 16]\n",
      " [ 6 24 12 24 18 36 30 54 48]\n",
      " [ 7 28 14 28 21 42 35 63 56]\n",
      " [ 3 12  6 12  9 18 15 27 24]]\n"
     ]
    }
   ],
   "source": [
    "import numpy as np\n",
    "\n",
    "M1=([[2,3,4], [6,5,2], [6,7,3]])\n",
    "M2=([[1,4,2], [4,3,6],[5,9,8]])\n",
    "\n",
    " \n",
    "res = np.dot(M1, M2)\n",
    "print(\"1.Dot Product is:\")\n",
    "print(res)\n",
    "print(\"2.Inner Product is:\")\n",
    "print(np.inner(M1, M2))\n",
    "print(\"3.Cross Product is:\")\n",
    "print(np.cross(M1, M2))\n",
    "print(\"4.Outer Product is:\")\n",
    "print(np.outer(M1, M2))\n",
    "\n",
    "\n"
   ]
  },
  {
   "cell_type": "markdown",
   "id": "910c684f",
   "metadata": {},
   "source": [
    "# 4. Randomly generate the marks of the 80 students in the range of 40 to 95. Write a NumPy program to compute the 70 percentile for all elements in a given array. \n",
    "(Hint:use np.random. randint(start,stop,no_of_items) for list generation) (Hint: Use np.percentile)"
   ]
  },
  {
   "cell_type": "code",
   "execution_count": 24,
   "id": "10a24851",
   "metadata": {},
   "outputs": [
    {
     "name": "stdout",
     "output_type": "stream",
     "text": [
      "\n",
      "Original array:\n",
      "[66 61 68 81 84 58 64 51 56 41 89 49 46 78 78 90 57 80 44 65 69 81 65 67\n",
      " 82 40 58 63 61 89 60 69 94 60 72 53 64 62 60 62 57 85 79 40 82 85 70 42\n",
      " 74 81 78 81 65 60 90 43 59 69 88 83 49 70 61 80 51 92 72 49 88 53 74 75\n",
      " 60 54 75 69 84 52 86 64]\n",
      "\n",
      "The 70 percentile for all elements:\n",
      "78.0\n"
     ]
    }
   ],
   "source": [
    "import numpy as np\n",
    "\n",
    "s= np.random.randint(40,95,80)\n",
    "print(\"\\nOriginal array:\")\n",
    "print(s)\n",
    "\n",
    "t = np.percentile(s, 70)\n",
    "print(\"\\nThe 70 percentile for all elements:\")\n",
    "print(t)"
   ]
  },
  {
   "cell_type": "markdown",
   "id": "db91de19",
   "metadata": {},
   "source": [
    "# 5. Write a NumPy program to compute the eigenvalues and right eigenvectors of a given square array. Arr =([[1,4,8], [8,9,2],[9,7,8]]) HINT: Use linear algebra package under numpy. Add these statements i.e. for eigenvalues, import numpy as np from numpy import linalg np.linalg.eig(a)"
   ]
  },
  {
   "cell_type": "code",
   "execution_count": 25,
   "id": "4f000054",
   "metadata": {},
   "outputs": [
    {
     "name": "stdout",
     "output_type": "stream",
     "text": [
      "The eigenvalues of the given array are\n",
      " [18.61713304 -4.50451282  3.88737977]\n",
      "The right eigenvectors of the given array are\n",
      " [[-0.44798294 -0.82768979  0.36471887]\n",
      " [-0.52339057  0.43844259 -0.77347804]\n",
      " [-0.7248266   0.35028233  0.51837426]]\n"
     ]
    }
   ],
   "source": [
    "from numpy import linalg\n",
    "Arr =([[1,4,8], [8,9,2],[9,7,8]])\n",
    "val,vec = np.linalg.eig(Arr)\n",
    "print(\"The eigenvalues of the given array are\\n\",val)\n",
    "print(\"The right eigenvectors of the given array are\\n\",vec)"
   ]
  },
  {
   "cell_type": "code",
   "execution_count": null,
   "id": "cce8690d",
   "metadata": {},
   "outputs": [],
   "source": []
  }
 ],
 "metadata": {
  "kernelspec": {
   "display_name": "Python 3 (ipykernel)",
   "language": "python",
   "name": "python3"
  },
  "language_info": {
   "codemirror_mode": {
    "name": "ipython",
    "version": 3
   },
   "file_extension": ".py",
   "mimetype": "text/x-python",
   "name": "python",
   "nbconvert_exporter": "python",
   "pygments_lexer": "ipython3",
   "version": "3.9.7"
  }
 },
 "nbformat": 4,
 "nbformat_minor": 5
}
